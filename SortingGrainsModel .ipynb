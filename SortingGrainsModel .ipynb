{
 "cells": [
  {
   "cell_type": "code",
   "execution_count": 4,
   "metadata": {
    "collapsed": true
   },
   "outputs": [],
   "source": [
    "import numpy as np \n",
    "import os"
   ]
  },
  {
   "cell_type": "code",
   "execution_count": 8,
   "metadata": {
    "collapsed": true
   },
   "outputs": [],
   "source": [
    "from skimage.io import imread"
   ]
  },
  {
   "cell_type": "code",
   "execution_count": 10,
   "metadata": {
    "collapsed": true
   },
   "outputs": [],
   "source": [
    "paths_good = os.listdir('Pict1/')\n",
    "paths_bad = os.listdir('Pict2/')"
   ]
  },
  {
   "cell_type": "code",
   "execution_count": 35,
   "metadata": {},
   "outputs": [],
   "source": [
    "x = imread(os.path.join('./Pict2/', paths_bad[0]))"
   ]
  },
  {
   "cell_type": "code",
   "execution_count": 37,
   "metadata": {},
   "outputs": [
    {
     "data": {
      "text/plain": [
       "(60, 60, 3)"
      ]
     },
     "execution_count": 37,
     "metadata": {},
     "output_type": "execute_result"
    }
   ],
   "source": [
    "x.shape"
   ]
  },
  {
   "cell_type": "code",
   "execution_count": 43,
   "metadata": {},
   "outputs": [
    {
     "name": "stdout",
     "output_type": "stream",
     "text": [
      "pch_101.png\n",
      "pch_102.png\n",
      "pch_103.png\n",
      "pch_104.png\n",
      "pch_105.png\n",
      "pch_106.png\n",
      "pch_108.png\n",
      "pch_109.png\n",
      "pch_110.png\n",
      "pch_111.png\n",
      "pch_112.png\n",
      "pch_113.png\n",
      "pch_114.png\n",
      "pch_115.png\n",
      "pch_116.png\n",
      "pch_117.png\n",
      "pch_118.png\n",
      "pch_119.png\n",
      "pch_120.png\n",
      "pch_121.png\n",
      "pch_122.png\n",
      "pch_123.png\n",
      "pch_125.png\n",
      "pch_126.png\n",
      "pch_127.png\n",
      "pch_128.png\n",
      "pch_129.png\n",
      "pch_130.png\n",
      "pch_131.png\n",
      "pch_132.png\n",
      "pch_133.png\n",
      "pch_134.png\n",
      "pch_135.png\n",
      "pch_136.png\n",
      "pch_137.png\n",
      "pch_138.png\n",
      "pch_140.png\n",
      "pch_141.png\n",
      "pch_142.png\n",
      "pch_143.png\n",
      "pch_144.png\n",
      "pch_145.png\n",
      "pch_147.png\n",
      "pch_148.png\n",
      "pch_149.png\n",
      "pch_150.png\n",
      "pch_151.png\n",
      "pch_152.png\n",
      "pch_153.png\n",
      "pch_154.png\n",
      "pch_155.png\n",
      "pch_156.png\n",
      "pch_157.png\n",
      "pch_158.png\n",
      "pch_159.png\n",
      "pch_160.png\n",
      "pch_161.png\n",
      "pch_163.png\n",
      "pch_164.png\n",
      "pch_165.png\n",
      "pch_167.png\n",
      "pch_168.png\n",
      "pch_169.png\n",
      "pch_170.png\n",
      "pch_171.png\n",
      "pch_172.png\n",
      "pch_173.png\n",
      "pch_174.png\n",
      "pch_176.png\n",
      "pch_178.png\n",
      "pch_179.png\n",
      "pch_180.png\n",
      "pch_181.png\n",
      "pch_182.png\n",
      "pch_183.png\n",
      "pch_184.png\n",
      "pch_185.png\n",
      "pch_186.png\n",
      "pch_188.png\n",
      "pch_189.png\n",
      "pch_190.png\n",
      "pch_191.png\n",
      "pch_192.png\n",
      "pch_193.png\n",
      "pch_194.png\n",
      "pch_195.png\n",
      "pch_196.png\n",
      "pch_197.png\n",
      "pch_198.png\n",
      "pch_200.png\n",
      "pch_201.png\n",
      "pch_202.png\n",
      "pch_203.png\n",
      "pch_204.png\n",
      "pch_205.png\n",
      "pch_208.png\n",
      "pch_209.png\n",
      "pch_210.png\n",
      "pch_211.png\n",
      "pch_212.png\n",
      "pch_213.png\n",
      "pch_214.png\n",
      "pch_215.png\n",
      "pch_216.png\n",
      "pch_219.png\n",
      "pch_220.png\n",
      "pch_221.png\n",
      "pch_222.png\n",
      "pch_223.png\n",
      "pch_224.png\n",
      "pch_225.png\n",
      "pch_226.png\n",
      "pch_227.png\n",
      "pch_228.png\n",
      "pch_229.png\n",
      "pch_230.png\n",
      "pch_231.png\n",
      "pch_233.png\n",
      "pch_234.png\n",
      "pch_235.png\n",
      "pch_236.png\n",
      "pch_237.png\n",
      "pch_238.png\n",
      "pch_239.png\n",
      "pch_240.png\n",
      "pch_241.png\n",
      "pch_242.png\n",
      "pch_243.png\n",
      "pch_244.png\n",
      "pch_245.png\n",
      "pch_246.png\n",
      "pch_247.png\n",
      "pch_248.png\n",
      "pch_249.png\n",
      "pch_252.png\n",
      "pch_253.png\n",
      "pch_254.png\n",
      "pch_255.png\n",
      "pch_256.png\n",
      "pch_257.png\n",
      "pch_258.png\n",
      "pch_259.png\n",
      "pch_264.png\n",
      "pch_265.png\n",
      "pch_266.png\n",
      "pch_267.png\n",
      "pch_268.png\n",
      "pch_269.png\n",
      "pch_27.png\n",
      "pch_270.png\n",
      "pch_271.png\n",
      "pch_272.png\n",
      "pch_277.png\n",
      "pch_278.png\n",
      "pch_280.png\n",
      "pch_281.png\n",
      "pch_282.png\n",
      "pch_283.png\n",
      "pch_285.png\n",
      "pch_286.png\n",
      "pch_287.png\n",
      "pch_288.png\n",
      "pch_289.png\n",
      "pch_290.png\n",
      "pch_291.png\n",
      "pch_292.png\n",
      "pch_293.png\n",
      "pch_294.png\n",
      "pch_295.png\n",
      "pch_296.png\n",
      "pch_297.png\n",
      "pch_298.png\n",
      "pch_299.png\n",
      "pch_30.png\n",
      "pch_300.png\n",
      "pch_31.png\n",
      "pch_32.png\n",
      "pch_34.png\n",
      "pch_35.png\n",
      "pch_37.png\n",
      "pch_38.png\n",
      "pch_39.png\n",
      "pch_40.png\n",
      "pch_41.png\n",
      "pch_42.png\n",
      "pch_43.png\n",
      "pch_44.png\n",
      "pch_45.png\n",
      "pch_46.png\n",
      "pch_47.png\n",
      "pch_49.png\n",
      "pch_50.png\n",
      "pch_52.png\n",
      "pch_53.png\n",
      "pch_54.png\n",
      "pch_55.png\n",
      "pch_56.png\n",
      "pch_57.png\n",
      "pch_58.png\n",
      "pch_59.png\n",
      "pch_61.png\n",
      "pch_62.png\n",
      "pch_65.png\n",
      "pch_66.png\n",
      "pch_67.png\n",
      "pch_68.png\n",
      "pch_69.png\n",
      "pch_70.png\n",
      "pch_71.png\n",
      "pch_72.png\n",
      "pch_73.png\n",
      "pch_75.png\n",
      "pch_76.png\n",
      "pch_77.png\n",
      "pch_78.png\n",
      "pch_79.png\n",
      "pch_80.png\n",
      "pch_81.png\n",
      "pch_82.png\n",
      "pch_83.png\n",
      "pch_84.png\n",
      "pch_85.png\n",
      "pch_86.png\n",
      "pch_87.png\n",
      "pch_88.png\n",
      "pch_91.png\n",
      "pch_94.png\n",
      "pch_95.png\n",
      "pch_96.png\n",
      "pch_97.png\n",
      "pch_98.png\n",
      "pch_99.png\n"
     ]
    }
   ],
   "source": [
    "list_of_image = []\n",
    "for name in paths_good:\n",
    "    print(name)\n",
    "    img = imread(os.path.join('./Pict1/', name))\n",
    "    full_img = np.zeros([60, 60, 3])\n",
    "    h, w = img.shape[:2]\n",
    "    full_img[:h, :w, :] = img\n",
    "    list_of_image.append(full_img)\n",
    "\n",
    "img_array = np.zeros([len(list_of_image), 60, 60, 3])\n",
    "\n",
    "for i in range(len(list_of_image)):\n",
    "    img_array[i] = list_of_image[i]"
   ]
  },
  {
   "cell_type": "code",
   "execution_count": 44,
   "metadata": {},
   "outputs": [
    {
     "data": {
      "text/plain": [
       "(232, 60, 60, 3)"
      ]
     },
     "execution_count": 44,
     "metadata": {},
     "output_type": "execute_result"
    }
   ],
   "source": [
    "img_array.shape"
   ]
  },
  {
   "cell_type": "code",
   "execution_count": 45,
   "metadata": {
    "collapsed": true
   },
   "outputs": [],
   "source": [
    "from skimage.feature import hog"
   ]
  },
  {
   "cell_type": "code",
   "execution_count": 46,
   "metadata": {
    "collapsed": true
   },
   "outputs": [],
   "source": [
    "img_array_grayScale = np.zeros((232, 60, 60))"
   ]
  },
  {
   "cell_type": "code",
   "execution_count": 47,
   "metadata": {
    "collapsed": true
   },
   "outputs": [],
   "source": [
    "from skimage.color import rgb2gray"
   ]
  },
  {
   "cell_type": "code",
   "execution_count": 49,
   "metadata": {},
   "outputs": [],
   "source": [
    "for i in range(len(img_array)):\n",
    "    img = img_array[i]\n",
    "    img_gray = rgb2gray(img)\n",
    "    img_array_grayScale[i] = img_gray"
   ]
  },
  {
   "cell_type": "code",
   "execution_count": 50,
   "metadata": {},
   "outputs": [
    {
     "data": {
      "text/plain": [
       "(232, 60, 60)"
      ]
     },
     "execution_count": 50,
     "metadata": {},
     "output_type": "execute_result"
    }
   ],
   "source": [
    "img_array_grayScale.shape"
   ]
  },
  {
   "cell_type": "markdown",
   "metadata": {},
   "source": [
    "## Computing HoGs"
   ]
  },
  {
   "cell_type": "code",
   "execution_count": 60,
   "metadata": {},
   "outputs": [],
   "source": [
    "X_train = np.zeros((len(img_array_grayScale), 2025))"
   ]
  },
  {
   "cell_type": "code",
   "execution_count": 61,
   "metadata": {},
   "outputs": [
    {
     "name": "stderr",
     "output_type": "stream",
     "text": [
      "/anaconda3/lib/python3.6/site-packages/skimage/feature/_hog.py:119: skimage_deprecation: Default value of `block_norm`==`L1` is deprecated and will be changed to `L2-Hys` in v0.15\n",
      "  'be changed to `L2-Hys` in v0.15', skimage_deprecation)\n"
     ]
    }
   ],
   "source": [
    "for i in range(len(img_array_grayScale)):\n",
    "    img = img_array_grayScale[i]\n",
    "    curr_hog = hog(img)\n",
    "    X_train[i] = curr_hog"
   ]
  },
  {
   "cell_type": "code",
   "execution_count": 62,
   "metadata": {},
   "outputs": [
    {
     "data": {
      "text/plain": [
       "(232, 2025)"
      ]
     },
     "execution_count": 62,
     "metadata": {},
     "output_type": "execute_result"
    }
   ],
   "source": [
    "X_train.shape"
   ]
  },
  {
   "cell_type": "code",
   "execution_count": null,
   "metadata": {
    "collapsed": true
   },
   "outputs": [],
   "source": []
  }
 ],
 "metadata": {
  "kernelspec": {
   "display_name": "Python 3",
   "language": "python",
   "name": "python3"
  },
  "language_info": {
   "codemirror_mode": {
    "name": "ipython",
    "version": 3
   },
   "file_extension": ".py",
   "mimetype": "text/x-python",
   "name": "python",
   "nbconvert_exporter": "python",
   "pygments_lexer": "ipython3",
   "version": "3.6.3"
  },
  "varInspector": {
   "cols": {
    "lenName": 16,
    "lenType": 16,
    "lenVar": 40
   },
   "kernels_config": {
    "python": {
     "delete_cmd_postfix": "",
     "delete_cmd_prefix": "del ",
     "library": "var_list.py",
     "varRefreshCmd": "print(var_dic_list())"
    },
    "r": {
     "delete_cmd_postfix": ") ",
     "delete_cmd_prefix": "rm(",
     "library": "var_list.r",
     "varRefreshCmd": "cat(var_dic_list()) "
    }
   },
   "types_to_exclude": [
    "module",
    "function",
    "builtin_function_or_method",
    "instance",
    "_Feature"
   ],
   "window_display": false
  }
 },
 "nbformat": 4,
 "nbformat_minor": 2
}
